{
 "cells": [
  {
   "cell_type": "code",
   "execution_count": 4,
   "metadata": {},
   "outputs": [
    {
     "data": {
      "text/html": [
       "<div>\n",
       "<style>\n",
       "    .dataframe thead tr:only-child th {\n",
       "        text-align: right;\n",
       "    }\n",
       "\n",
       "    .dataframe thead th {\n",
       "        text-align: left;\n",
       "    }\n",
       "\n",
       "    .dataframe tbody tr th {\n",
       "        vertical-align: top;\n",
       "    }\n",
       "</style>\n",
       "<table border=\"1\" class=\"dataframe\">\n",
       "  <thead>\n",
       "    <tr style=\"text-align: right;\">\n",
       "      <th></th>\n",
       "      <th>Weather</th>\n",
       "      <th>Play Football</th>\n",
       "    </tr>\n",
       "  </thead>\n",
       "  <tbody>\n",
       "    <tr>\n",
       "      <th>0</th>\n",
       "      <td>Rainy</td>\n",
       "      <td>No</td>\n",
       "    </tr>\n",
       "    <tr>\n",
       "      <th>1</th>\n",
       "      <td>Rainy</td>\n",
       "      <td>No</td>\n",
       "    </tr>\n",
       "    <tr>\n",
       "      <th>2</th>\n",
       "      <td>Overcast</td>\n",
       "      <td>Yes</td>\n",
       "    </tr>\n",
       "    <tr>\n",
       "      <th>3</th>\n",
       "      <td>Sunny</td>\n",
       "      <td>Yes</td>\n",
       "    </tr>\n",
       "    <tr>\n",
       "      <th>4</th>\n",
       "      <td>Sunny</td>\n",
       "      <td>Yes</td>\n",
       "    </tr>\n",
       "    <tr>\n",
       "      <th>5</th>\n",
       "      <td>Overcast</td>\n",
       "      <td>Yes</td>\n",
       "    </tr>\n",
       "    <tr>\n",
       "      <th>6</th>\n",
       "      <td>Rainy</td>\n",
       "      <td>No</td>\n",
       "    </tr>\n",
       "    <tr>\n",
       "      <th>7</th>\n",
       "      <td>Rainy</td>\n",
       "      <td>No</td>\n",
       "    </tr>\n",
       "    <tr>\n",
       "      <th>8</th>\n",
       "      <td>Overcast</td>\n",
       "      <td>No</td>\n",
       "    </tr>\n",
       "    <tr>\n",
       "      <th>9</th>\n",
       "      <td>Overcast</td>\n",
       "      <td>Yes</td>\n",
       "    </tr>\n",
       "    <tr>\n",
       "      <th>10</th>\n",
       "      <td>Sunny</td>\n",
       "      <td>No</td>\n",
       "    </tr>\n",
       "  </tbody>\n",
       "</table>\n",
       "</div>"
      ],
      "text/plain": [
       "     Weather Play Football\n",
       "0      Rainy            No\n",
       "1      Rainy            No\n",
       "2   Overcast           Yes\n",
       "3      Sunny           Yes\n",
       "4      Sunny           Yes\n",
       "5   Overcast           Yes\n",
       "6      Rainy            No\n",
       "7      Rainy            No\n",
       "8   Overcast            No\n",
       "9   Overcast           Yes\n",
       "10     Sunny            No"
      ]
     },
     "execution_count": 4,
     "metadata": {},
     "output_type": "execute_result"
    }
   ],
   "source": [
    "import pandas as pd\n",
    "data = pd.DataFrame({\"Weather\":[\"Rainy\",\"Rainy\",\"Overcast\",\"Sunny\",\"Sunny\",\"Overcast\",\"Rainy\",\"Rainy\",\"Overcast\",\"Overcast\",\"Sunny\"],\n",
    "                     \"Play Football\":[\"No\",\"No\",\"Yes\",\"Yes\",\"Yes\",\"Yes\",\"No\",\"No\",\"No\",\"Yes\",\"No\"]}, \n",
    "                    columns=[\"Weather\",\"Play Football\"])\n",
    "features = data[[\"Weather\",\"Play Football\"]]\n",
    "target = data[\"Play Football\"]\n",
    "data"
   ]
  },
  {
   "cell_type": "code",
   "execution_count": 7,
   "metadata": {},
   "outputs": [
    {
     "name": "stdout",
     "output_type": "stream",
     "text": [
      "0.9940302114769565\n"
     ]
    }
   ],
   "source": [
    "def entropy(probs):\n",
    "    '''\n",
    "    Takes a list of probabilities and calculates their entropy\n",
    "    '''\n",
    "    import math\n",
    "    return sum( [-prob*math.log(prob, 2) for prob in probs] )\n",
    "    \n",
    "\n",
    "def entropy_of_list(a_list):\n",
    "    '''\n",
    "    Takes a list of items with discrete values (e.g., poisonous, edible)\n",
    "    and returns the entropy for those items.\n",
    "    '''\n",
    "    from collections import Counter\n",
    "    \n",
    "    # Tally Up:\n",
    "    cnt = Counter(x for x in a_list)\n",
    "    \n",
    "    # Convert to Proportion\n",
    "    num_instances = len(a_list)*1.0\n",
    "    probs = [x / num_instances for x in cnt.values()]\n",
    "    \n",
    "    # Calculate Entropy:\n",
    "    return entropy(probs)\n",
    "    \n",
    "# The initial entropy of the yes/no attribute for our dataset.\n",
    "total_entropy = entropy_of_list(data['Play Football'])\n",
    "print (total_entropy)"
   ]
  },
  {
   "cell_type": "code",
   "execution_count": null,
   "metadata": {},
   "outputs": [],
   "source": []
  }
 ],
 "metadata": {
  "kernelspec": {
   "display_name": "Python 3",
   "language": "python",
   "name": "python3"
  },
  "language_info": {
   "codemirror_mode": {
    "name": "ipython",
    "version": 3
   },
   "file_extension": ".py",
   "mimetype": "text/x-python",
   "name": "python",
   "nbconvert_exporter": "python",
   "pygments_lexer": "ipython3",
   "version": "3.6.3"
  }
 },
 "nbformat": 4,
 "nbformat_minor": 2
}
