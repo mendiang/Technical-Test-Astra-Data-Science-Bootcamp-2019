{
 "cells": [
  {
   "cell_type": "code",
   "execution_count": 6,
   "metadata": {},
   "outputs": [
    {
     "name": "stdout",
     "output_type": "stream",
     "text": [
      "True\n"
     ]
    }
   ],
   "source": [
    "s = \"anagram\"\n",
    "t = \"nagaram\"\n",
    "\n",
    "s = s.replace(\" \",\"\").lower()\n",
    "t = t.replace(\" \",\"\").lower()\n",
    "\n",
    "def is_anagram(s, t):\n",
    "    ht = dict()\n",
    "    \n",
    "    if len(s) != len(t):\n",
    "        return False\n",
    "    \n",
    "    for i in s:\n",
    "        if i in ht:\n",
    "            ht[i] += 1\n",
    "        else:\n",
    "            ht[i] = 1\n",
    "            \n",
    "    for i in t:\n",
    "        if i in ht:\n",
    "            ht[i] -= 1\n",
    "        else:\n",
    "            ht[i] = 1\n",
    "            \n",
    "    for i in ht:\n",
    "        if ht[i] != 0:\n",
    "            return False\n",
    "    return True\n",
    "\n",
    "print(is_anagram(s, t))"
   ]
  },
  {
   "cell_type": "code",
   "execution_count": 8,
   "metadata": {},
   "outputs": [
    {
     "name": "stdout",
     "output_type": "stream",
     "text": [
      "False\n"
     ]
    }
   ],
   "source": [
    "s = \"cat\"\n",
    "t = \"car\"\n",
    "\n",
    "s = s.replace(\" \",\"\").lower()\n",
    "t = t.replace(\" \",\"\").lower()\n",
    "\n",
    "def is_anagram(s, t):\n",
    "    ht = dict()\n",
    "    \n",
    "    if len(s) != len(t):\n",
    "        return False\n",
    "    \n",
    "    for i in s:\n",
    "        if i in ht:\n",
    "            ht[i] += 1\n",
    "        else:\n",
    "            ht[i] = 1\n",
    "            \n",
    "    for i in t:\n",
    "        if i in ht:\n",
    "            ht[i] -= 1\n",
    "        else:\n",
    "            ht[i] = 1\n",
    "            \n",
    "    for i in ht:\n",
    "        if ht[i] != 0:\n",
    "            return False\n",
    "    return True\n",
    "\n",
    "print(is_anagram(s, t))"
   ]
  },
  {
   "cell_type": "code",
   "execution_count": null,
   "metadata": {},
   "outputs": [],
   "source": []
  }
 ],
 "metadata": {
  "kernelspec": {
   "display_name": "Python 3",
   "language": "python",
   "name": "python3"
  },
  "language_info": {
   "codemirror_mode": {
    "name": "ipython",
    "version": 3
   },
   "file_extension": ".py",
   "mimetype": "text/x-python",
   "name": "python",
   "nbconvert_exporter": "python",
   "pygments_lexer": "ipython3",
   "version": "3.6.3"
  }
 },
 "nbformat": 4,
 "nbformat_minor": 2
}
