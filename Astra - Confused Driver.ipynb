{
 "cells": [
  {
   "cell_type": "code",
   "execution_count": 29,
   "metadata": {},
   "outputs": [
    {
     "name": "stdout",
     "output_type": "stream",
     "text": [
      "(-2.0, 4.0)\n"
     ]
    }
   ],
   "source": [
    "# Python3 program to calculate  \n",
    "# endpoint_coordinate between start coordinate and checkpoint coordinate \n",
    "  \n",
    "import math \n",
    "\n",
    "# Function to calculate endpoint_coordinate\n",
    "\n",
    "def endpoint(x1 , y1, x2, y2): \n",
    "  \n",
    "    # Calculating endpoint_coordinate\n",
    "    # instructed to go to a checkpoint then turn left using if else statement\n",
    "    if (y2 - y1) > 0:\n",
    "                x3 = x2 - abs(y2 - y1)/2\n",
    "    else:\n",
    "                x3 = x2 + abs(y2 - y1)/2\n",
    "    \n",
    "    if (x2 - x1) > 0:\n",
    "                y3 = y2 + abs(x2 - x1)/2\n",
    "    else:\n",
    "                y3 = y2 - abs(x2 - x1)/2\n",
    "    print(\"(\",x3,\", \",y3,\")\",sep=\"\")\n",
    "  \n",
    "# Drivers Code \n",
    "endpoint(0, 0, 0, 4) "
   ]
  },
  {
   "cell_type": "code",
   "execution_count": 30,
   "metadata": {},
   "outputs": [
    {
     "name": "stdout",
     "output_type": "stream",
     "text": [
      "(3.5, 1.5)\n"
     ]
    }
   ],
   "source": [
    "endpoint(1, 4, 2, 1) "
   ]
  },
  {
   "cell_type": "code",
   "execution_count": 31,
   "metadata": {},
   "outputs": [
    {
     "name": "stdout",
     "output_type": "stream",
     "text": [
      "(-2.0, 3.0)\n"
     ]
    }
   ],
   "source": [
    "endpoint(0, 4, -2, 4) "
   ]
  },
  {
   "cell_type": "code",
   "execution_count": null,
   "metadata": {},
   "outputs": [],
   "source": []
  }
 ],
 "metadata": {
  "kernelspec": {
   "display_name": "Python 3",
   "language": "python",
   "name": "python3"
  },
  "language_info": {
   "codemirror_mode": {
    "name": "ipython",
    "version": 3
   },
   "file_extension": ".py",
   "mimetype": "text/x-python",
   "name": "python",
   "nbconvert_exporter": "python",
   "pygments_lexer": "ipython3",
   "version": "3.6.3"
  }
 },
 "nbformat": 4,
 "nbformat_minor": 2
}
